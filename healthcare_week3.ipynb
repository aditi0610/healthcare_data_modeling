{
 "cells": [
  {
   "cell_type": "code",
   "execution_count": 1,
   "metadata": {},
   "outputs": [],
   "source": [
    "import pandas as pd\n",
    "import numpy as np\n",
    "import matplotlib.pyplot as plt\n",
    "import seaborn as sns\n",
    "import warnings\n",
    "warnings.filterwarnings('ignore')\n",
    "%matplotlib inline\n",
    "from sklearn import metrics"
   ]
  },
  {
   "cell_type": "code",
   "execution_count": 2,
   "metadata": {},
   "outputs": [
    {
     "data": {
      "text/html": [
       "<div>\n",
       "<style scoped>\n",
       "    .dataframe tbody tr th:only-of-type {\n",
       "        vertical-align: middle;\n",
       "    }\n",
       "\n",
       "    .dataframe tbody tr th {\n",
       "        vertical-align: top;\n",
       "    }\n",
       "\n",
       "    .dataframe thead th {\n",
       "        text-align: right;\n",
       "    }\n",
       "</style>\n",
       "<table border=\"1\" class=\"dataframe\">\n",
       "  <thead>\n",
       "    <tr style=\"text-align: right;\">\n",
       "      <th></th>\n",
       "      <th>Pregnancies</th>\n",
       "      <th>Glucose</th>\n",
       "      <th>BloodPressure</th>\n",
       "      <th>SkinThickness</th>\n",
       "      <th>Insulin</th>\n",
       "      <th>BMI</th>\n",
       "      <th>DiabetesPedigreeFunction</th>\n",
       "      <th>Age</th>\n",
       "      <th>Outcome</th>\n",
       "    </tr>\n",
       "  </thead>\n",
       "  <tbody>\n",
       "    <tr>\n",
       "      <th>0</th>\n",
       "      <td>6</td>\n",
       "      <td>148.0</td>\n",
       "      <td>72.0</td>\n",
       "      <td>35.000000</td>\n",
       "      <td>79.799479</td>\n",
       "      <td>33.6</td>\n",
       "      <td>0.627</td>\n",
       "      <td>50</td>\n",
       "      <td>1</td>\n",
       "    </tr>\n",
       "    <tr>\n",
       "      <th>1</th>\n",
       "      <td>1</td>\n",
       "      <td>85.0</td>\n",
       "      <td>66.0</td>\n",
       "      <td>29.000000</td>\n",
       "      <td>79.799479</td>\n",
       "      <td>26.6</td>\n",
       "      <td>0.351</td>\n",
       "      <td>31</td>\n",
       "      <td>0</td>\n",
       "    </tr>\n",
       "    <tr>\n",
       "      <th>2</th>\n",
       "      <td>8</td>\n",
       "      <td>183.0</td>\n",
       "      <td>64.0</td>\n",
       "      <td>20.536458</td>\n",
       "      <td>79.799479</td>\n",
       "      <td>23.3</td>\n",
       "      <td>0.672</td>\n",
       "      <td>32</td>\n",
       "      <td>1</td>\n",
       "    </tr>\n",
       "    <tr>\n",
       "      <th>3</th>\n",
       "      <td>1</td>\n",
       "      <td>89.0</td>\n",
       "      <td>66.0</td>\n",
       "      <td>23.000000</td>\n",
       "      <td>94.000000</td>\n",
       "      <td>28.1</td>\n",
       "      <td>0.167</td>\n",
       "      <td>21</td>\n",
       "      <td>0</td>\n",
       "    </tr>\n",
       "    <tr>\n",
       "      <th>4</th>\n",
       "      <td>0</td>\n",
       "      <td>137.0</td>\n",
       "      <td>40.0</td>\n",
       "      <td>35.000000</td>\n",
       "      <td>168.000000</td>\n",
       "      <td>43.1</td>\n",
       "      <td>2.288</td>\n",
       "      <td>33</td>\n",
       "      <td>1</td>\n",
       "    </tr>\n",
       "  </tbody>\n",
       "</table>\n",
       "</div>"
      ],
      "text/plain": [
       "   Pregnancies  Glucose  BloodPressure  SkinThickness     Insulin   BMI  \\\n",
       "0            6    148.0           72.0      35.000000   79.799479  33.6   \n",
       "1            1     85.0           66.0      29.000000   79.799479  26.6   \n",
       "2            8    183.0           64.0      20.536458   79.799479  23.3   \n",
       "3            1     89.0           66.0      23.000000   94.000000  28.1   \n",
       "4            0    137.0           40.0      35.000000  168.000000  43.1   \n",
       "\n",
       "   DiabetesPedigreeFunction  Age  Outcome  \n",
       "0                     0.627   50        1  \n",
       "1                     0.351   31        0  \n",
       "2                     0.672   32        1  \n",
       "3                     0.167   21        0  \n",
       "4                     2.288   33        1  "
      ]
     },
     "execution_count": 2,
     "metadata": {},
     "output_type": "execute_result"
    }
   ],
   "source": [
    "data=pd.read_csv('after_week1.csv')\n",
    "data.head()"
   ]
  },
  {
   "cell_type": "code",
   "execution_count": 4,
   "metadata": {},
   "outputs": [],
   "source": [
    "x=data.iloc[:,:-1].values\n",
    "y=data.iloc[:,-1].values"
   ]
  },
  {
   "cell_type": "code",
   "execution_count": 5,
   "metadata": {},
   "outputs": [],
   "source": [
    "from sklearn.model_selection import train_test_split\n",
    "x_train,x_test,y_train,y_test=train_test_split(x,y,test_size=0.20,random_state=0)"
   ]
  },
  {
   "cell_type": "code",
   "execution_count": 6,
   "metadata": {},
   "outputs": [
    {
     "name": "stdout",
     "output_type": "stream",
     "text": [
      "(614, 8)\n",
      "(154, 8)\n",
      "(614,)\n",
      "(154,)\n"
     ]
    }
   ],
   "source": [
    "print(x_train.shape)\n",
    "print(x_test.shape)\n",
    "print(y_train.shape)\n",
    "print(y_test.shape)"
   ]
  },
  {
   "cell_type": "code",
   "execution_count": 7,
   "metadata": {},
   "outputs": [],
   "source": [
    "from sklearn.preprocessing import StandardScaler"
   ]
  },
  {
   "cell_type": "code",
   "execution_count": 8,
   "metadata": {},
   "outputs": [],
   "source": [
    "Scale=StandardScaler()\n",
    "x_train_std=Scale.fit_transform(x_train)\n",
    "x_test_std=Scale.transform(x_test)"
   ]
  },
  {
   "cell_type": "code",
   "execution_count": 9,
   "metadata": {},
   "outputs": [],
   "source": [
    "norm=lambda a:(a-min(a))/(max(a)-min(a))"
   ]
  },
  {
   "cell_type": "code",
   "execution_count": 10,
   "metadata": {},
   "outputs": [],
   "source": [
    "data_norm=data.iloc[:,:-1]"
   ]
  },
  {
   "cell_type": "code",
   "execution_count": 11,
   "metadata": {},
   "outputs": [],
   "source": [
    "data_normalized=data_norm.apply(norm)"
   ]
  },
  {
   "cell_type": "code",
   "execution_count": 12,
   "metadata": {},
   "outputs": [],
   "source": [
    "x_train_norm,x_test_norm,y_train_norm,y_test_norm=train_test_split(data_normalized.values,y,test_size=0.20,random_state=0)"
   ]
  },
  {
   "cell_type": "code",
   "execution_count": 13,
   "metadata": {},
   "outputs": [
    {
     "name": "stdout",
     "output_type": "stream",
     "text": [
      "(614, 8)\n",
      "(154, 8)\n",
      "(614,)\n",
      "(154,)\n"
     ]
    }
   ],
   "source": [
    "print(x_train_norm.shape)\n",
    "print(x_test_norm.shape)\n",
    "print(y_train_norm.shape)\n",
    "print(y_test_norm.shape)"
   ]
  },
  {
   "cell_type": "code",
   "execution_count": 14,
   "metadata": {},
   "outputs": [],
   "source": [
    "from sklearn.neighbors import KNeighborsClassifier\n",
    "knn_model = KNeighborsClassifier(n_neighbors=25) \n",
    "#Using 25 Neighbors just as thumb rule sqrt of observation\n",
    "knn_model.fit(x_train_std,y_train)\n",
    "knn_pred=knn_model.predict(x_test_std)"
   ]
  },
  {
   "cell_type": "code",
   "execution_count": 15,
   "metadata": {},
   "outputs": [
    {
     "name": "stdout",
     "output_type": "stream",
     "text": [
      "Model Validation ==>\n",
      "\n",
      "Accuracy Score of KNN Model::\n",
      "0.8181818181818182\n",
      "\n",
      " Classification Report::\n",
      "              precision    recall  f1-score   support\n",
      "\n",
      "           0       0.85      0.90      0.87       107\n",
      "           1       0.73      0.64      0.68        47\n",
      "\n",
      "    accuracy                           0.82       154\n",
      "   macro avg       0.79      0.77      0.78       154\n",
      "weighted avg       0.81      0.82      0.81       154\n",
      " \n",
      "\n",
      "\n",
      " ROC Curve\n"
     ]
    },
    {
     "data": {
      "text/plain": [
       "<matplotlib.legend.Legend at 0x7f89aa6dc190>"
      ]
     },
     "execution_count": 15,
     "metadata": {},
     "output_type": "execute_result"
    },
    {
     "data": {
      "image/png": "[encoded data removed]",
      "text/plain": [
       "<Figure size 480x320 with 1 Axes>"
      ]
     },
     "metadata": {
      "needs_background": "light"
     },
     "output_type": "display_data"
    }
   ],
   "source": [
    "print(\"Model Validation ==>\\n\")\n",
    "print(\"Accuracy Score of KNN Model::\")\n",
    "print(metrics.accuracy_score(y_test,knn_pred))\n",
    "print(\"\\n\",\"Classification Report::\")\n",
    "print(metrics.classification_report(y_test,knn_pred),'\\n')\n",
    "print(\"\\n\",\"ROC Curve\")\n",
    "knn_prob=knn_model.predict_proba(x_test_std)\n",
    "knn_prob1=knn_prob[:,1]\n",
    "fpr,tpr,thresh=metrics.roc_curve(y_test,knn_prob1)\n",
    "roc_auc_knn=metrics.auc(fpr,tpr)\n",
    "plt.figure(dpi=80)\n",
    "plt.title(\"ROC Curve\")\n",
    "plt.xlabel('False Positive Rate')\n",
    "plt.ylabel('True Positive Rate')\n",
    "plt.plot(fpr,tpr,'b',label='AUC Score = %0.2f'%roc_auc_knn)\n",
    "plt.plot(fpr,fpr,'r--',color='red')\n",
    "plt.legend()"
   ]
  },
  {
   "cell_type": "code",
   "execution_count": 16,
   "metadata": {},
   "outputs": [],
   "source": [
    "from sklearn.neighbors import KNeighborsClassifier\n",
    "knn_model_norm = KNeighborsClassifier(n_neighbors=25) \n",
    "#Using 25 Neighbors just as thumb rule sqrt of observation\n",
    "knn_model_norm.fit(x_train_norm,y_train_norm)\n",
    "knn_pred_norm=knn_model_norm.predict(x_test_norm)"
   ]
  },
  {
   "cell_type": "code",
   "execution_count": 17,
   "metadata": {},
   "outputs": [
    {
     "name": "stdout",
     "output_type": "stream",
     "text": [
      "Model Validation ==>\n",
      "\n",
      "Accuracy Score of KNN Model with Normalization::\n",
      "0.8311688311688312\n",
      "\n",
      " Classification Report::\n",
      "              precision    recall  f1-score   support\n",
      "\n",
      "           0       0.86      0.90      0.88       107\n",
      "           1       0.74      0.68      0.71        47\n",
      "\n",
      "    accuracy                           0.83       154\n",
      "   macro avg       0.80      0.79      0.80       154\n",
      "weighted avg       0.83      0.83      0.83       154\n",
      " \n",
      "\n",
      "\n",
      " ROC Curve\n"
     ]
    },
    {
     "data": {
      "text/plain": [
       "<matplotlib.legend.Legend at 0x7f89aa7f3910>"
      ]
     },
     "execution_count": 17,
     "metadata": {},
     "output_type": "execute_result"
    },
    {
     "data": {
      "image/png": "[encoded data removed]",
      "text/plain": [
       "<Figure size 480x320 with 1 Axes>"
      ]
     },
     "metadata": {
      "needs_background": "light"
     },
     "output_type": "display_data"
    }
   ],
   "source": [
    "print(\"Model Validation ==>\\n\")\n",
    "print(\"Accuracy Score of KNN Model with Normalization::\")\n",
    "print(metrics.accuracy_score(y_test_norm,knn_pred_norm))\n",
    "print(\"\\n\",\"Classification Report::\")\n",
    "print(metrics.classification_report(y_test_norm,knn_pred_norm),'\\n')\n",
    "print(\"\\n\",\"ROC Curve\")\n",
    "knn_prob_norm=knn_model.predict_proba(x_test_norm)\n",
    "knn_prob_norm1=knn_prob_norm[:,1]\n",
    "fpr,tpr,thresh=metrics.roc_curve(y_test_norm,knn_prob_norm1)\n",
    "roc_auc_knn=metrics.auc(fpr,tpr)\n",
    "plt.figure(dpi=80)\n",
    "plt.title(\"ROC Curve\")\n",
    "plt.xlabel('False Positive Rate')\n",
    "plt.ylabel('True Positive Rate')\n",
    "plt.plot(fpr,tpr,'b',label='AUC Score = %0.2f'%roc_auc_knn)\n",
    "plt.plot(fpr,fpr,'r--',color='red')\n",
    "plt.legend()"
   ]
  },
  {
   "cell_type": "code",
   "execution_count": 18,
   "metadata": {},
   "outputs": [],
   "source": [
    "from sklearn.svm import SVC\n",
    "svc_model_linear = SVC(kernel='linear',random_state=0,probability=True,C=0.01) \n",
    "svc_model_linear.fit(x_train_std,y_train)\n",
    "svc_pred=svc_model_linear.predict(x_test_std)"
   ]
  },
  {
   "cell_type": "code",
   "execution_count": 19,
   "metadata": {},
   "outputs": [
    {
     "name": "stdout",
     "output_type": "stream",
     "text": [
      "Model Validation ==>\n",
      "\n",
      "Accuracy Score of SVC Model with Linear Kernel::\n",
      "0.8116883116883117\n",
      "\n",
      " Classification Report::\n",
      "              precision    recall  f1-score   support\n",
      "\n",
      "           0       0.83      0.92      0.87       107\n",
      "           1       0.75      0.57      0.65        47\n",
      "\n",
      "    accuracy                           0.81       154\n",
      "   macro avg       0.79      0.75      0.76       154\n",
      "weighted avg       0.81      0.81      0.80       154\n",
      " \n",
      "\n",
      "\n",
      " ROC Curve\n"
     ]
    },
    {
     "data": {
      "text/plain": [
       "<matplotlib.legend.Legend at 0x7f89ab1989a0>"
      ]
     },
     "execution_count": 19,
     "metadata": {},
     "output_type": "execute_result"
    },
    {
     "data": {
      "image/png": "[encoded data removed]",
      "text/plain": [
       "<Figure size 480x320 with 1 Axes>"
      ]
     },
     "metadata": {
      "needs_background": "light"
     },
     "output_type": "display_data"
    }
   ],
   "source": [
    "print(\"Model Validation ==>\\n\")\n",
    "print(\"Accuracy Score of SVC Model with Linear Kernel::\")\n",
    "print(metrics.accuracy_score(y_test,svc_pred))\n",
    "print(\"\\n\",\"Classification Report::\")\n",
    "print(metrics.classification_report(y_test,svc_pred),'\\n')\n",
    "print(\"\\n\",\"ROC Curve\")\n",
    "svc_prob_linear=svc_model_linear.predict_proba(x_test_std)\n",
    "svc_prob_linear1=svc_prob_linear[:,1]\n",
    "fpr,tpr,thresh=metrics.roc_curve(y_test,svc_prob_linear1)\n",
    "roc_auc_svc=metrics.auc(fpr,tpr)\n",
    "plt.figure(dpi=80)\n",
    "plt.title(\"ROC Curve\")\n",
    "plt.xlabel('False Positive Rate')\n",
    "plt.ylabel('True Positive Rate')\n",
    "plt.plot(fpr,tpr,'b',label='AUC Score = %0.2f'%roc_auc_svc)\n",
    "plt.plot(fpr,fpr,'r--',color='red')\n",
    "plt.legend()"
   ]
  },
  {
   "cell_type": "code",
   "execution_count": 20,
   "metadata": {},
   "outputs": [],
   "source": [
    "from sklearn.svm import SVC\n",
    "svc_model_rbf = SVC(kernel='rbf',random_state=0,probability=True,C=1) \n",
    "svc_model_rbf.fit(x_train_std,y_train)\n",
    "svc_pred_rbf=svc_model_rbf.predict(x_test_std)"
   ]
  },
  {
   "cell_type": "code",
   "execution_count": 21,
   "metadata": {},
   "outputs": [
    {
     "name": "stdout",
     "output_type": "stream",
     "text": [
      "Model Validation ==>\n",
      "\n",
      "Accuracy Score of SVC Model with RBF Kernel::\n",
      "0.7727272727272727\n",
      "\n",
      " Classification Report::\n",
      "              precision    recall  f1-score   support\n",
      "\n",
      "           0       0.81      0.88      0.84       107\n",
      "           1       0.66      0.53      0.59        47\n",
      "\n",
      "    accuracy                           0.77       154\n",
      "   macro avg       0.73      0.71      0.72       154\n",
      "weighted avg       0.76      0.77      0.77       154\n",
      " \n",
      "\n",
      "\n",
      " ROC Curve\n"
     ]
    },
    {
     "data": {
      "text/plain": [
       "<matplotlib.legend.Legend at 0x7f89ab281280>"
      ]
     },
     "execution_count": 21,
     "metadata": {},
     "output_type": "execute_result"
    },
    {
     "data": {
      "image/png": "[encoded data removed]",
      "text/plain": [
       "<Figure size 480x320 with 1 Axes>"
      ]
     },
     "metadata": {
      "needs_background": "light"
     },
     "output_type": "display_data"
    }
   ],
   "source": [
    "print(\"Model Validation ==>\\n\")\n",
    "print(\"Accuracy Score of SVC Model with RBF Kernel::\")\n",
    "print(metrics.accuracy_score(y_test,svc_pred_rbf))\n",
    "print(\"\\n\",\"Classification Report::\")\n",
    "print(metrics.classification_report(y_test,svc_pred_rbf),'\\n')\n",
    "print(\"\\n\",\"ROC Curve\")\n",
    "svc_prob_rbf=svc_model_linear.predict_proba(x_test_std)\n",
    "svc_prob_rbf1=svc_prob_rbf[:,1]\n",
    "fpr,tpr,thresh=metrics.roc_curve(y_test,svc_prob_rbf1)\n",
    "roc_auc_svc=metrics.auc(fpr,tpr)\n",
    "plt.figure(dpi=80)\n",
    "plt.title(\"ROC Curve\")\n",
    "plt.xlabel('False Positive Rate')\n",
    "plt.ylabel('True Positive Rate')\n",
    "plt.plot(fpr,tpr,'b',label='AUC Score = %0.2f'%roc_auc_svc)\n",
    "plt.plot(fpr,fpr,'r--',color='red')\n",
    "plt.legend()"
   ]
  },
  {
   "cell_type": "code",
   "execution_count": 25,
   "metadata": {},
   "outputs": [],
   "source": [
    "from sklearn.linear_model import LogisticRegression\n",
    "rf_model = LogisticRegression(C=0.01) \n",
    "rf_model.fit(x_train_std,y_train)\n",
    "rf_pred=rf_model.predict(x_test_std)"
   ]
  },
  {
   "cell_type": "code",
   "execution_count": 26,
   "metadata": {},
   "outputs": [
    {
     "name": "stdout",
     "output_type": "stream",
     "text": [
      "Model Validation ==>\n",
      "\n",
      "Accuracy Score of Logistic Regression Model::\n",
      "0.8116883116883117\n",
      "\n",
      " Classification Report::\n",
      "              precision    recall  f1-score   support\n",
      "\n",
      "           0       0.82      0.93      0.87       107\n",
      "           1       0.78      0.53      0.63        47\n",
      "\n",
      "    accuracy                           0.81       154\n",
      "   macro avg       0.80      0.73      0.75       154\n",
      "weighted avg       0.81      0.81      0.80       154\n",
      " \n",
      "\n",
      "\n",
      " ROC Curve\n"
     ]
    },
    {
     "data": {
      "text/plain": [
       "<matplotlib.legend.Legend at 0x7f89ab37e0d0>"
      ]
     },
     "execution_count": 26,
     "metadata": {},
     "output_type": "execute_result"
    },
    {
     "data": {
      "image/png": "[encoded data removed]",
      "text/plain": [
       "<Figure size 480x320 with 1 Axes>"
      ]
     },
     "metadata": {
      "needs_background": "light"
     },
     "output_type": "display_data"
    }
   ],
   "source": [
    "print(\"Model Validation ==>\\n\")\n",
    "print(\"Accuracy Score of Logistic Regression Model::\")\n",
    "print(metrics.accuracy_score(y_test,rf_pred))\n",
    "print(\"\\n\",\"Classification Report::\")\n",
    "print(metrics.classification_report(y_test, rf_pred),'\\n')\n",
    "print(\"\\n\",\"ROC Curve\")\n",
    "rf_prob=rf_model.predict_proba(x_test_std)\n",
    "rf_prob1=rf_prob[:,1]\n",
    "fpr,tpr,thresh=metrics.roc_curve(y_test, rf_prob1)\n",
    "roc_auc_rf=metrics.auc(fpr,tpr)\n",
    "plt.figure(dpi=80)\n",
    "plt.plot(fpr,tpr,'b',label='AUC Score = %0.2f'%roc_auc_rf)\n",
    "plt.title(\"ROC Curve\")\n",
    "plt.xlabel('False Positive Rate')\n",
    "plt.ylabel('True Positive Rate')\n",
    "plt.plot(fpr,fpr,'r--',color='red')\n",
    "plt.legend()"
   ]
  },
  {
   "cell_type": "code",
   "execution_count": null,
   "metadata": {},
   "outputs": [],
   "source": []
  }
 ],
 "metadata": {
  "kernelspec": {
   "display_name": "Python 3",
   "language": "python",
   "name": "python3"
  },
  "language_info": {
   "codemirror_mode": {
    "name": "ipython",
    "version": 3
   },
   "file_extension": ".py",
   "mimetype": "text/x-python",
   "name": "python",
   "nbconvert_exporter": "python",
   "pygments_lexer": "ipython3",
   "version": "3.8.5"
  }
 },
 "nbformat": 4,
 "nbformat_minor": 4
}
